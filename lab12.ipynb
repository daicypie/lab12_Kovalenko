{
 "cells": [
  {
   "cell_type": "markdown",
   "metadata": {},
   "source": [
    "---\n",
    "title: \"Лабораторна робота №12. Об'єктно-орієнтоване програмування. Частина ІІ\"\n",
    "description:\n",
    "  Документ зроблено в [Quarto](https://quarto.org/)\n",
    "author: \"&copy; Anastasia Kovalenko, 2024\"\n",
    "date: \"28.11.2024\"\n",
    "lang: ukr\n",
    "format:\n",
    "  html:\n",
    "    code-fold: true\n",
    "    toc: true # меню\n",
    "    toc_float: # спливаюче меню  \n",
    "      collapsed: true # fdnj\n",
    "      number_sections: true\n",
    "jupyter: python3\n",
    "---"
   ]
  },
  {
   "cell_type": "markdown",
   "metadata": {},
   "source": [
    "__Мета:__ _навчитися програмувати в стилі об'єектно-орієнтованого програмування._"
   ]
  },
  {
   "cell_type": "markdown",
   "metadata": {
    "tags": []
   },
   "source": [
    "#### Що ви будете вміти?\n",
    "* створювати класи та об'єкти у Python;\n",
    "* реалізувати механізми інкапсуляції та наслідування;\n",
    "* визначати та використовувати змінні екземпляра;\n",
    "* визначати та використовувати методи;\n",
    "* використовувати композицію."
   ]
  },
  {
   "cell_type": "markdown",
   "metadata": {},
   "source": [
    "## Основи об'єктно-орієнтованого програмування на Python. Метод __str()__"
   ]
  },
  {
   "cell_type": "markdown",
   "metadata": {},
   "source": [
    "### Приклад 1\n",
    "\n",
    "Нам потрібен клас, що вміє рахувати секунди. Чи легко? Це не так просто, як Ви думаєте, оскільки ми матимемо певні вимоги.\n",
    "\n",
    "Прочитайте їх уважно, оскільки клас, який Ви пишете, використовуватиметься для запуску ракет, які виконують міжнародні місії на Марс. Це велика відповідальність. Ми розраховуємо на Вас!\n",
    "\n",
    "Ваш клас буде називатися `Timer`. Його конструктор приймає три аргументи, що представляють годинник (значення з діапазону [0..23] - ми будемо використовувати воєнний час), хвилини (з діапазону [0..59]) та секунди (з діапазону [0..59]).\n",
    "\n",
    "Нуль -- це значення за замовчанням всіх вищеперелічених параметрів. Немає необхідності виконувати будь-які перевірки.\n",
    "\n",
    "Сам клас має забезпечувати такі можливості:\n",
    "\n",
    "* об'єкти класу повинні бути \"друкованими\", тобто вони повинні мати можливість неявно перетворювати себе на рядки наступного виду: \"чч:мм:сс\" з додаванням провідних нулів, коли будь-яке з значень менше 10;\n",
    "* клас повинен бути оснащений методами без параметрів, званими next_second() і previous_second(), що збільшують час, що зберігається всередині об'єктів, на +1/-1 секунд відповідно.\n",
    "\n",
    "Використовуйте такі підказки:\n",
    "\n",
    "* всі властивості об'єкта мають бути закритими;\n",
    "* розгляньте можливість написання окремої функції (не методу!) для форматування рядка часу.\n",
    "\n",
    "Доповніть шаблон, який ми надали в редакторі. Запустіть свій код і перевірте, чи виглядає результат так само, як наш."
   ]
  },
  {
   "cell_type": "markdown",
   "metadata": {},
   "source": [
    "Очікуваний вивід:  \n",
    "\n",
    "`23:59:59`  \n",
    "`00:00:00`  \n",
    "`23:59:59  `  "
   ]
  },
  {
   "cell_type": "code",
   "execution_count": null,
   "metadata": {},
   "outputs": [],
   "source": [
    "class Timer:\n",
    "    def __init__(self, hours=0, minutes=0, seconds=0):\n",
    "        self._hours = hours\n",
    "        self._minutes = minutes\n",
    "        self._seconds = seconds\n",
    "\n",
    "    def __str__(self):\n",
    "        return f\"{self._format_time(self._hours)}:{self._format_time(self._minutes)}:{self._format_time(self._seconds)}\"\n",
    "\n",
    "    def _format_time(self, time):\n",
    "        return str(time).zfill(2)\n",
    "\n",
    "    def next_second(self):\n",
    "        self._seconds = (self._seconds + 1) % 60\n",
    "        if self._seconds == 0:\n",
    "            self._minutes = (self._minutes + 1) % 60\n",
    "            if self._minutes == 0:\n",
    "                self._hours = (self._hours + 1) % 24\n",
    "\n",
    "    def prev_second(self):\n",
    "        self._seconds = (self._seconds - 1) % 60\n",
    "        if self._seconds == 59:\n",
    "            self._minutes = (self._minutes - 1) % 60\n",
    "            if self._minutes == 59:\n",
    "                self._hours = (self._hours - 1) % 24\n",
    "\n",
    "\n",
    "timer = Timer(23, 59, 59)\n",
    "print(timer)\n",
    "timer.next_second()\n",
    "print(timer)\n",
    "timer.prev_second()\n",
    "print(timer)"
   ]
  },
  {
   "cell_type": "markdown",
   "metadata": {},
   "source": [
    "### Приклад 2\n",
    "\n",
    "Ваше завдання – реалізувати клас під назвою `Weeker`. Так, Ваші очі не обманюють Вас -- ця назва походить від того факту, що об'єкти цього класу можуть зберігати та керувати днями тижня.\n",
    "\n",
    "Конструктор класу приймає один аргумент – рядок. Рядок є назвою дня тижня, і єдині допустимі значення повинні надходити з наступного набору:\n",
    "\n",
    "`Mon Tue Wed Thu Fri Sat Sun`\n",
    "\n",
    "Виклик конструктора з аргументом ззовні цього набору повинен викликати виняток `WeekDayError` (визначте його самостійно; не турбуйтеся, скоро ми поговоримо про об'єктивну природу винятків). Клас повинен надати такі можливості:\n",
    "\n",
    "об'єкти класу мають бути \"друкованими\", тобто. вони повинні мати можливість неявно перетворювати себе на рядки тієї ж форми, що й аргументи конструктора;\n",
    "клас повинен бути оснащений однопараметричними методами з іменами `add_days(n)` і `subtract_days(n)`, де __n__ є цілим числом число та оновлення дня тижня, що зберігається всередині об'єкта, таким чином, щоб відобразити зміну дати на вказану кількість днів уперед або назад.\n",
    "всі властивості об'єкта мають бути прихованими;\n",
    "Заповніть шаблон, який ми надали в редакторі, запустіть свій код і перевірте, чи виглядає Ваш результат так само, як наш.\n",
    "\n",
    "Очікуваний вивід: \n",
    "\n",
    "`Mon`  \n",
    "`Thu`  \n",
    "`Sun`  \n",
    "`Sorry, I can't serve your request.  `\n"
   ]
  },
  {
   "cell_type": "code",
   "execution_count": null,
   "metadata": {},
   "outputs": [],
   "source": [
    "class WeekDayError(Exception):\n",
    "    def __init__(self, message=\"Invalid day of the week\"):\n",
    "        self.message = message\n",
    "        super().__init__(self.message)\n",
    "\n",
    "\n",
    "class Weeker:\n",
    "    DAYS = ['Mon', 'Tue', 'Wed', 'Thu', 'Fri', 'Sat', 'Sun']\n",
    "\n",
    "    def __init__(self, day):\n",
    "        if day not in self.DAYS:\n",
    "            raise WeekDayError(\"Sorry, I can't serve your request.\")\n",
    "        self._day = day\n",
    "\n",
    "    def __str__(self):\n",
    "        return self._day\n",
    "\n",
    "    def add_days(self, n):\n",
    "        current_index = self.DAYS.index(self._day)\n",
    "        new_index = (current_index + n) % 7\n",
    "        self._day = self.DAYS[new_index]\n",
    "\n",
    "    def subtract_days(self, n):\n",
    "        current_index = self.DAYS.index(self._day)\n",
    "        new_index = (current_index - n) % 7\n",
    "        self._day = self.DAYS[new_index]\n",
    "\n",
    "\n",
    "try:\n",
    "    weekday = Weeker('Mon')\n",
    "    print(weekday)\n",
    "    weekday.add_days(15)\n",
    "    print(weekday)\n",
    "    weekday.subtract_days(23)\n",
    "    print(weekday)\n",
    "    weekday = Weeker('Monday')\n",
    "except WeekDayError as e:\n",
    "    print(e)"
   ]
  },
  {
   "cell_type": "markdown",
   "metadata": {},
   "source": [
    "### Приклад 3\n",
    "Давайте відвідаємо зовсім особливе місце – площину з декартовою системою координат (Ви можете дізнатися більше про цю концепцію тут: [Декартова система координат)](https://uk.wikipedia.org/wiki/%D0%94%D0%B5%D0%BA%D0%B0%D1%80%D1%82%D0%BE%D0%B2%D0%B0_%D1%81%D0%B8%D1%81%D1%82%D0%B5%D0%BC%D0%B0_%D0%BA%D0%BE%D0%BE%D1%80%D0%B4%D0%B8%D0%BD%D0%B0%D1%82).\n",
    "\n",
    "Кожну точку, розташовану на площині, можна описати як пару координат, яку зазвичай називають $x$ і $y$. Ми хочемо, щоб Ви написали клас Python, який зберігає обидві координати як числа з плаваючою комою. Більше того, ми хочемо, щоб об'єкти цього класу вважали відстані між будь-якою з двох точок, розташованих на площині.\n",
    "\n",
    "Завдання досить просте, якщо Ви скористаєтеся функцією з ім'ям `hypot()` (доступна в модулі `math`), яка вважає довжину гіпотенузи прямокутного трикутника (докладніше тут: [Гіпотенуза](https://uk.wikipedia.org/wiki/%D0%93%D1%96%D0%BF%D0%BE%D1%82%D0%B5%D0%BD%D1%83%D0%B7%D0%B0)) і тут: [Trigonometric functions](https://docs.python.org/3.7/library/math.html#trigonometric-functions).\n",
    "\n",
    "Ось як ми уявляємо собі клас:\n",
    "\n",
    "* він називається `Point`;\n",
    "* його конструктор приймає два аргументи (x і y відповідно), обидва з яких за умовчанням дорівнюють нулю;\n",
    "* всі властивості мають бути прихованими;\n",
    "* клас містить два методи без параметрів, названі `getx()` та `gety()`, які повертають кожну з двох координат (координати зберігаються приховано, тому вони не можуть бути доступні безпосередньо з об'єкта);\n",
    "* клас надає метод під назвою `distance_from_xy(x, y)`, який обчислює та повертає відстань між точкою, що зберігається всередині об'єкта, та іншою точкою, заданою як пара пунктів;\n",
    "* клас надає метод під назвою `distance_from_point(point)`, який обчислює відстань (як у попередньому методі), але місце розташування іншої точки задається як інший об'єкт класу `Point`;\n",
    "\n",
    "Доповніть шаблон, який ми надали в редакторі, запустіть свій код і перевірте, чи виглядає Ваш результат так само, як наш.\n",
    "\n",
    "Очікуваний вивід: \n",
    "\n",
    "`1.4142135623730951`  \n",
    "`1.4142135623730951`"
   ]
  },
  {
   "cell_type": "code",
   "execution_count": null,
   "metadata": {},
   "outputs": [],
   "source": [
    "import math\n",
    "\n",
    "class Point:\n",
    "    def __init__(self, x=0.0, y=0.0):\n",
    "        self._x = x\n",
    "        self._y = y\n",
    "\n",
    "    def getx(self):\n",
    "        return self._x\n",
    "\n",
    "    def gety(self):\n",
    "        return self._y\n",
    "\n",
    "    def distance_from_xy(self, x, y):\n",
    "        return math.hypot(self._x - x, self._y - y)\n",
    "\n",
    "    def distance_from_point(self, point):\n",
    "        return self.distance_from_xy(point.getx(), point.gety())\n",
    "\n",
    "point1 = Point(0, 0)\n",
    "point2 = Point(1, 1)\n",
    "print(point1.distance_from_point(point2))\n",
    "print(point2.distance_from_xy(2, 0))"
   ]
  },
  {
   "cell_type": "markdown",
   "metadata": {},
   "source": [
    "## Використання композиції"
   ]
  },
  {
   "cell_type": "markdown",
   "metadata": {},
   "source": [
    "### Завдання 1"
   ]
  },
  {
   "cell_type": "markdown",
   "metadata": {},
   "source": [
    "Тепер ми збираємося вбудувати клас `Point` (див. попереднє завдання) в інший клас. Крім того, ми збираємося помістити три точки в один клас, що дозволить нам визначити трикутник. Як ми можемо це зробити?\n",
    "\n",
    "Новий клас буде називатися `Triangle`, і ось, що нам потрібно:\n",
    "\n",
    "* конструктор приймає три аргументи -- вони є об'єктами класу `Point`;\n",
    "* точки зберігаються всередині об'єкта як список;\n",
    "* клас надає метод без параметрів з назвою `perimeter()`, який обчислює периметр трикутника, описаного трьома точками; периметр – це сума довжин усіх сторін (це просто нагадування, хоча ми впевнені, що Ви самі це чудово знаєте).\n",
    "\n",
    "Доповніть шаблон, який ми надали в редакторі. Запустіть свій код і перевірте, чи збігається оцінюваний периметр з нашим.\n",
    "\n",
    "Нижче Ви можете скопіювати код класу `Point`, який ми використовували у попередній лабораторній роботі:"
   ]
  },
  {
   "cell_type": "code",
   "execution_count": 12,
   "metadata": {},
   "outputs": [],
   "source": [
    "class Point:\n",
    "    def __init__(self, x=0.0, y=0.0):\n",
    "        self.__x = x\n",
    "        self.__y = y"
   ]
  },
  {
   "cell_type": "markdown",
   "metadata": {},
   "source": [
    "Очікуваний вивод:  \n",
    "\n",
    "`3.414213562373095`\n"
   ]
  },
  {
   "cell_type": "code",
   "execution_count": null,
   "metadata": {},
   "outputs": [],
   "source": [
    "import math\n",
    "\n",
    "class Point:\n",
    "    def __init__(self, x=0.0, y=0.0):\n",
    "        self.__x = x\n",
    "        self.__y = y\n",
    "\n",
    "    def getx(self):\n",
    "        return self.__x\n",
    "\n",
    "    def gety(self):\n",
    "        return self.__y\n",
    "\n",
    "    def distance_from_xy(self, x, y):\n",
    "        return math.hypot(self.__x - x, self.__y - y)\n",
    "\n",
    "    def distance_from_point(self, point):\n",
    "        return self.distance_from_xy(point.getx(), point.gety())\n",
    "\n",
    "class Triangle:\n",
    "    def __init__(self, vertice1, vertice2, vertice3):\n",
    "        self.vertices = [vertice1, vertice2, vertice3]\n",
    "\n",
    "    def perimeter(self):\n",
    "        side1 = self.vertices[0].distance_from_point(self.vertices[1])\n",
    "        side2 = self.vertices[1].distance_from_point(self.vertices[2])\n",
    "        side3 = self.vertices[2].distance_from_point(self.vertices[0])\n",
    "        return side1 + side2 + side3\n",
    "\n",
    "triangle = Triangle(Point(0, 0), Point(1, 0), Point(0, 1))\n",
    "print(triangle.perimeter()) "
   ]
  },
  {
   "cell_type": "markdown",
   "metadata": {},
   "source": [
    "Цей код включає клас `Poin`t з попереднього завдання, а також додає клас `Triangle`, який містить конструктор для приймання трьох вершин трикутника і метод `perimeter`, що обчислює периметр трикутника, використовуючи відстані між вершинами."
   ]
  },
  {
   "cell_type": "markdown",
   "metadata": {},
   "source": [
    "### Контрольні запитання\n",
    "\n",
    "Припустимо, що наступний фрагмент коду успішно виконано:"
   ]
  },
  {
   "cell_type": "code",
   "execution_count": 16,
   "metadata": {},
   "outputs": [],
   "source": [
    "class Dog: \n",
    "    kennel = 0 \n",
    "    def __init__(self, breed): \n",
    "        self.breed = breed \n",
    "        Dog.kennel += 1 \n",
    "\n",
    "    def __str__(self): \n",
    "        return self.breed + \" says: Woof!\" \n",
    "\n",
    "\n",
    "class SheepDog(Dog): \n",
    "    def __str__(self): \n",
    "        return super().__str__() + \" Don't run away, Little Lamb!\" \n",
    "\n",
    "\n",
    "class GuardDog(Dog): \n",
    "     def __str__(self): \n",
    "         return super().__str__() + \" Stay where you are, Mister Intruder!\" \n",
    "\n",
    "rocky = SheepDog(\"Collie\") \n",
    "luna = GuardDog(\"Dobermann\") "
   ]
  },
  {
   "cell_type": "markdown",
   "metadata": {},
   "source": [
    "1. Який очікуваний вивід наступного фрагмента коду?\n",
    "\n",
    "`print(rocky)`  \n",
    "`print(luna)`\n",
    "\n",
    "rocky\n",
    "\n",
    "luna\n",
    "\n",
    "2. Який очікуваний вивід наступного фрагмента коду?\n",
    "\n",
    "`print(issubclass(SheepDog, Dog), issubclass(SheepDog, GuardDog))`   \n",
    "`print(isinstance(rocky, GuardDog), isinstance(luna, GuardDog))`\n",
    "\n",
    "True False\n",
    "\n",
    "False True"
   ]
  },
  {
   "cell_type": "markdown",
   "metadata": {},
   "source": [
    "### References"
   ]
  },
  {
   "cell_type": "markdown",
   "metadata": {},
   "source": [
    "1. [Для прикладу 1)](https://stackoverflow.com/questions/75880654/when-running-code-using-class-named-clock-to-store-time-i-get-incorrect-output)  \n",
    "1. [Для прикладу 2](https://www.javatpoint.com/python-constructors)  \n",
    "1. [Для прикладу 3](https://naysan.ca/2020/08/02/drawing-a-cartesian-coordinate-system-in-python/)  \n",
    "1. [Для прикладу 3 та завдання 1](https://stackoverflow.com/questions/71530008/how-to-fix-python-point-class-printing-error)  \n",
    "1. [Лекція 14](https://drive.google.com/file/d/1i9P8O-8ThJidMZleo-SuUm_IsqYqB-mk/view)  \n"
   ]
  }
 ],
 "metadata": {
  "kernelspec": {
   "display_name": "Python 3 (ipykernel)",
   "language": "python",
   "name": "python3"
  },
  "language_info": {
   "codemirror_mode": {
    "name": "ipython",
    "version": 3
   },
   "file_extension": ".py",
   "mimetype": "text/x-python",
   "name": "python",
   "nbconvert_exporter": "python",
   "pygments_lexer": "ipython3",
   "version": "3.11.3"
  }
 },
 "nbformat": 4,
 "nbformat_minor": 4
}
